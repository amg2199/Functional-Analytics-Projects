{
 "cells": [
  {
   "cell_type": "markdown",
   "metadata": {},
   "source": [
    "# Importing Libraries"
   ]
  },
  {
   "cell_type": "code",
   "execution_count": 445,
   "metadata": {},
   "outputs": [],
   "source": [
    "import pandas as pd\n",
    "import numpy as np\n",
    "import seaborn as sns\n",
    "import matplotlib.pyplot as plt\n",
    "from sklearn.preprocessing import StandardScaler\n",
    "from sklearn.model_selection import train_test_split\n",
    "%matplotlib inline"
   ]
  },
  {
   "cell_type": "code",
   "execution_count": 446,
   "metadata": {},
   "outputs": [],
   "source": [
    "import tensorflow as tf\n",
    "from tensorflow.keras import layers\n",
    "from tensorflow.keras.models import Model\n",
    "from keras.layers import Input\n",
    "from keras.layers import LeakyReLU"
   ]
  },
  {
   "cell_type": "code",
   "execution_count": 447,
   "metadata": {},
   "outputs": [],
   "source": [
    "sns.set_style('whitegrid')"
   ]
  },
  {
   "cell_type": "code",
   "execution_count": 448,
   "metadata": {},
   "outputs": [],
   "source": [
    "df = pd.read_csv('train.csv')"
   ]
  },
  {
   "cell_type": "code",
   "execution_count": 449,
   "metadata": {},
   "outputs": [
    {
     "data": {
      "text/html": [
       "<div>\n",
       "<style scoped>\n",
       "    .dataframe tbody tr th:only-of-type {\n",
       "        vertical-align: middle;\n",
       "    }\n",
       "\n",
       "    .dataframe tbody tr th {\n",
       "        vertical-align: top;\n",
       "    }\n",
       "\n",
       "    .dataframe thead th {\n",
       "        text-align: right;\n",
       "    }\n",
       "</style>\n",
       "<table border=\"1\" class=\"dataframe\">\n",
       "  <thead>\n",
       "    <tr style=\"text-align: right;\">\n",
       "      <th></th>\n",
       "      <th>PassengerId</th>\n",
       "      <th>Survived</th>\n",
       "      <th>Pclass</th>\n",
       "      <th>Name</th>\n",
       "      <th>Sex</th>\n",
       "      <th>Age</th>\n",
       "      <th>SibSp</th>\n",
       "      <th>Parch</th>\n",
       "      <th>Ticket</th>\n",
       "      <th>Fare</th>\n",
       "      <th>Cabin</th>\n",
       "      <th>Embarked</th>\n",
       "    </tr>\n",
       "  </thead>\n",
       "  <tbody>\n",
       "    <tr>\n",
       "      <th>0</th>\n",
       "      <td>1</td>\n",
       "      <td>0</td>\n",
       "      <td>3</td>\n",
       "      <td>Braund, Mr. Owen Harris</td>\n",
       "      <td>male</td>\n",
       "      <td>22.0</td>\n",
       "      <td>1</td>\n",
       "      <td>0</td>\n",
       "      <td>A/5 21171</td>\n",
       "      <td>7.2500</td>\n",
       "      <td>NaN</td>\n",
       "      <td>S</td>\n",
       "    </tr>\n",
       "    <tr>\n",
       "      <th>1</th>\n",
       "      <td>2</td>\n",
       "      <td>1</td>\n",
       "      <td>1</td>\n",
       "      <td>Cumings, Mrs. John Bradley (Florence Briggs Th...</td>\n",
       "      <td>female</td>\n",
       "      <td>38.0</td>\n",
       "      <td>1</td>\n",
       "      <td>0</td>\n",
       "      <td>PC 17599</td>\n",
       "      <td>71.2833</td>\n",
       "      <td>C85</td>\n",
       "      <td>C</td>\n",
       "    </tr>\n",
       "    <tr>\n",
       "      <th>2</th>\n",
       "      <td>3</td>\n",
       "      <td>1</td>\n",
       "      <td>3</td>\n",
       "      <td>Heikkinen, Miss. Laina</td>\n",
       "      <td>female</td>\n",
       "      <td>26.0</td>\n",
       "      <td>0</td>\n",
       "      <td>0</td>\n",
       "      <td>STON/O2. 3101282</td>\n",
       "      <td>7.9250</td>\n",
       "      <td>NaN</td>\n",
       "      <td>S</td>\n",
       "    </tr>\n",
       "    <tr>\n",
       "      <th>3</th>\n",
       "      <td>4</td>\n",
       "      <td>1</td>\n",
       "      <td>1</td>\n",
       "      <td>Futrelle, Mrs. Jacques Heath (Lily May Peel)</td>\n",
       "      <td>female</td>\n",
       "      <td>35.0</td>\n",
       "      <td>1</td>\n",
       "      <td>0</td>\n",
       "      <td>113803</td>\n",
       "      <td>53.1000</td>\n",
       "      <td>C123</td>\n",
       "      <td>S</td>\n",
       "    </tr>\n",
       "    <tr>\n",
       "      <th>4</th>\n",
       "      <td>5</td>\n",
       "      <td>0</td>\n",
       "      <td>3</td>\n",
       "      <td>Allen, Mr. William Henry</td>\n",
       "      <td>male</td>\n",
       "      <td>35.0</td>\n",
       "      <td>0</td>\n",
       "      <td>0</td>\n",
       "      <td>373450</td>\n",
       "      <td>8.0500</td>\n",
       "      <td>NaN</td>\n",
       "      <td>S</td>\n",
       "    </tr>\n",
       "  </tbody>\n",
       "</table>\n",
       "</div>"
      ],
      "text/plain": [
       "   PassengerId  Survived  Pclass  \\\n",
       "0            1         0       3   \n",
       "1            2         1       1   \n",
       "2            3         1       3   \n",
       "3            4         1       1   \n",
       "4            5         0       3   \n",
       "\n",
       "                                                Name     Sex   Age  SibSp  \\\n",
       "0                            Braund, Mr. Owen Harris    male  22.0      1   \n",
       "1  Cumings, Mrs. John Bradley (Florence Briggs Th...  female  38.0      1   \n",
       "2                             Heikkinen, Miss. Laina  female  26.0      0   \n",
       "3       Futrelle, Mrs. Jacques Heath (Lily May Peel)  female  35.0      1   \n",
       "4                           Allen, Mr. William Henry    male  35.0      0   \n",
       "\n",
       "   Parch            Ticket     Fare Cabin Embarked  \n",
       "0      0         A/5 21171   7.2500   NaN        S  \n",
       "1      0          PC 17599  71.2833   C85        C  \n",
       "2      0  STON/O2. 3101282   7.9250   NaN        S  \n",
       "3      0            113803  53.1000  C123        S  \n",
       "4      0            373450   8.0500   NaN        S  "
      ]
     },
     "execution_count": 449,
     "metadata": {},
     "output_type": "execute_result"
    }
   ],
   "source": [
    "df.head()"
   ]
  },
  {
   "cell_type": "markdown",
   "metadata": {},
   "source": [
    "# Exploratory Data Analysis"
   ]
  },
  {
   "cell_type": "code",
   "execution_count": 450,
   "metadata": {},
   "outputs": [
    {
     "data": {
      "text/plain": [
       "PassengerId      0\n",
       "Survived         0\n",
       "Pclass           0\n",
       "Name             0\n",
       "Sex              0\n",
       "Age            177\n",
       "SibSp            0\n",
       "Parch            0\n",
       "Ticket           0\n",
       "Fare             0\n",
       "Cabin          687\n",
       "Embarked         2\n",
       "dtype: int64"
      ]
     },
     "execution_count": 450,
     "metadata": {},
     "output_type": "execute_result"
    }
   ],
   "source": [
    "df.isnull().sum()"
   ]
  },
  {
   "cell_type": "code",
   "execution_count": 451,
   "metadata": {},
   "outputs": [],
   "source": [
    "def get_percentage_of_missing_values(dataframe):\n",
    "    col_list = dataframe.columns\n",
    "    my_dict = {}\n",
    "    total_null = 0\n",
    "    for i in range(len(col_list)):\n",
    "        total_null += dataframe[col_list[i]].isnull().sum()\n",
    "    if(total_null == 0):\n",
    "        return \"No Missing Values Found\"\n",
    "    for i in range(len(col_list)):\n",
    "        curr_null = dataframe[col_list[i]].isnull().sum()\n",
    "        my_dict[col_list[i]] = (curr_null/total_null) * 100\n",
    "    for i,(k,v) in enumerate(my_dict.items()):\n",
    "        if(v > 0):\n",
    "            print(\"Missing % value in {col_name} is : {val:.2f} \".format(col_name=k,val=v))\n",
    "    plt.figure(figsize=(12,10))\n",
    "    sns.barplot(x = list(my_dict.keys()),y = list(my_dict.values()),hue = list(my_dict.keys()))"
   ]
  },
  {
   "cell_type": "code",
   "execution_count": 452,
   "metadata": {},
   "outputs": [
    {
     "name": "stdout",
     "output_type": "stream",
     "text": [
      "Missing % value in Age is : 20.44 \n",
      "Missing % value in Cabin is : 79.33 \n",
      "Missing % value in Embarked is : 0.23 \n"
     ]
    },
    {
     "data": {
      "image/png": "[encoded data removed]",
      "text/plain": [
       "<Figure size 864x720 with 1 Axes>"
      ]
     },
     "metadata": {},
     "output_type": "display_data"
    }
   ],
   "source": [
    "get_percentage_of_missing_values(df)"
   ]
  },
  {
   "cell_type": "code",
   "execution_count": 453,
   "metadata": {},
   "outputs": [
    {
     "name": "stdout",
     "output_type": "stream",
     "text": [
      "Total Columns : 12\n",
      "Total Numerical Columns : 7\n",
      "Total Categorical Columns : 5\n"
     ]
    },
    {
     "data": {
      "image/png": "[encoded data removed]",
      "text/plain": [
       "<Figure size 720x360 with 1 Axes>"
      ]
     },
     "metadata": {},
     "output_type": "display_data"
    }
   ],
   "source": [
    "# Get Columns representation\n",
    "num_cols = df._get_numeric_data().columns\n",
    "cat_cols = set(df.columns)-set(num_cols)\n",
    "category_list = ['Numerical','Categorical']\n",
    "count_col_list = [len(num_cols),len(cat_cols)]\n",
    "def get_col_type_representation(cat_list,count_list):\n",
    "    plt.figure(figsize=(10,5))\n",
    "    print(\"Total Columns : {total}\".format(total=len(df.columns)))\n",
    "    print(\"Total Numerical Columns : {numerical}\".format(numerical=len(num_cols)))\n",
    "    print(\"Total Categorical Columns : {categorical}\".format(categorical=len(cat_cols)))\n",
    "    sns.barplot(x=cat_list,y=count_list,hue = cat_list)\n",
    "get_col_type_representation(category_list,count_col_list)"
   ]
  },
  {
   "cell_type": "code",
   "execution_count": 454,
   "metadata": {},
   "outputs": [
    {
     "data": {
      "text/plain": [
       "<AxesSubplot:>"
      ]
     },
     "execution_count": 454,
     "metadata": {},
     "output_type": "execute_result"
    },
    {
     "data": {
      "image/png": "[encoded data removed]",
      "text/plain": [
       "<Figure size 720x360 with 1 Axes>"
      ]
     },
     "metadata": {},
     "output_type": "display_data"
    }
   ],
   "source": [
    "plt.figure(figsize=(10,5))\n",
    "sns.heatmap(df.isnull(),yticklabels=False,cbar=False,cmap='viridis')"
   ]
  },
  {
   "cell_type": "code",
   "execution_count": 455,
   "metadata": {},
   "outputs": [
    {
     "data": {
      "text/plain": [
       "<AxesSubplot:xlabel='Survived', ylabel='count'>"
      ]
     },
     "execution_count": 455,
     "metadata": {},
     "output_type": "execute_result"
    },
    {
     "data": {
      "image/png": "[encoded data removed]",
      "text/plain": [
       "<Figure size 720x360 with 1 Axes>"
      ]
     },
     "metadata": {},
     "output_type": "display_data"
    }
   ],
   "source": [
    "plt.figure(figsize=(10,5))\n",
    "sns.countplot(data=df,x='Survived',palette = 'winter')"
   ]
  },
  {
   "cell_type": "code",
   "execution_count": 456,
   "metadata": {},
   "outputs": [
    {
     "data": {
      "text/html": [
       "<style type=\"text/css\">\n",
       "#T_35817_row0_col0, #T_35817_row0_col2, #T_35817_row1_col1 {\n",
       "  background-color: #ffff66;\n",
       "  color: #000000;\n",
       "}\n",
       "#T_35817_row0_col1 {\n",
       "  background-color: #77bb66;\n",
       "  color: #f1f1f1;\n",
       "}\n",
       "#T_35817_row1_col0 {\n",
       "  background-color: #2c9666;\n",
       "  color: #f1f1f1;\n",
       "}\n",
       "#T_35817_row1_col2 {\n",
       "  background-color: #8bc566;\n",
       "  color: #000000;\n",
       "}\n",
       "#T_35817_row2_col0, #T_35817_row2_col1, #T_35817_row2_col2 {\n",
       "  background-color: #008066;\n",
       "  color: #f1f1f1;\n",
       "}\n",
       "</style>\n",
       "<table id=\"T_35817_\">\n",
       "  <thead>\n",
       "    <tr>\n",
       "      <th class=\"index_name level0\" >Survived</th>\n",
       "      <th class=\"col_heading level0 col0\" >0</th>\n",
       "      <th class=\"col_heading level0 col1\" >1</th>\n",
       "      <th class=\"col_heading level0 col2\" >All</th>\n",
       "    </tr>\n",
       "    <tr>\n",
       "      <th class=\"index_name level0\" >Sex</th>\n",
       "      <th class=\"blank col0\" >&nbsp;</th>\n",
       "      <th class=\"blank col1\" >&nbsp;</th>\n",
       "      <th class=\"blank col2\" >&nbsp;</th>\n",
       "    </tr>\n",
       "  </thead>\n",
       "  <tbody>\n",
       "    <tr>\n",
       "      <th id=\"T_35817_level0_row0\" class=\"row_heading level0 row0\" >female</th>\n",
       "      <td id=\"T_35817_row0_col0\" class=\"data row0 col0\" >81</td>\n",
       "      <td id=\"T_35817_row0_col1\" class=\"data row0 col1\" >233</td>\n",
       "      <td id=\"T_35817_row0_col2\" class=\"data row0 col2\" >314</td>\n",
       "    </tr>\n",
       "    <tr>\n",
       "      <th id=\"T_35817_level0_row1\" class=\"row_heading level0 row1\" >male</th>\n",
       "      <td id=\"T_35817_row1_col0\" class=\"data row1 col0\" >468</td>\n",
       "      <td id=\"T_35817_row1_col1\" class=\"data row1 col1\" >109</td>\n",
       "      <td id=\"T_35817_row1_col2\" class=\"data row1 col2\" >577</td>\n",
       "    </tr>\n",
       "    <tr>\n",
       "      <th id=\"T_35817_level0_row2\" class=\"row_heading level0 row2\" >All</th>\n",
       "      <td id=\"T_35817_row2_col0\" class=\"data row2 col0\" >549</td>\n",
       "      <td id=\"T_35817_row2_col1\" class=\"data row2 col1\" >342</td>\n",
       "      <td id=\"T_35817_row2_col2\" class=\"data row2 col2\" >891</td>\n",
       "    </tr>\n",
       "  </tbody>\n",
       "</table>\n"
      ],
      "text/plain": [
       "<pandas.io.formats.style.Styler at 0x116629e7610>"
      ]
     },
     "execution_count": 456,
     "metadata": {},
     "output_type": "execute_result"
    }
   ],
   "source": [
    "pd.crosstab([df['Sex']],df['Survived'],margins=True).style.background_gradient(cmap='summer_r')"
   ]
  },
  {
   "cell_type": "code",
   "execution_count": 457,
   "metadata": {},
   "outputs": [
    {
     "data": {
      "text/plain": [
       "<AxesSubplot:xlabel='Survived', ylabel='count'>"
      ]
     },
     "execution_count": 457,
     "metadata": {},
     "output_type": "execute_result"
    },
    {
     "data": {
      "image/png": "[encoded data removed]",
      "text/plain": [
       "<Figure size 720x360 with 1 Axes>"
      ]
     },
     "metadata": {},
     "output_type": "display_data"
    }
   ],
   "source": [
    "plt.figure(figsize=(10,5))\n",
    "sns.countplot(data=df,x='Survived',hue='Sex',palette = 'spring')"
   ]
  },
  {
   "cell_type": "code",
   "execution_count": 458,
   "metadata": {},
   "outputs": [
    {
     "data": {
      "text/html": [
       "<style type=\"text/css\">\n",
       "#T_e18c2_row0_col0, #T_e18c2_row0_col1, #T_e18c2_row0_col3, #T_e18c2_row3_col2 {\n",
       "  background-color: #00ffff;\n",
       "  color: #000000;\n",
       "}\n",
       "#T_e18c2_row0_col2, #T_e18c2_row1_col2 {\n",
       "  background-color: #0ef1ff;\n",
       "  color: #000000;\n",
       "}\n",
       "#T_e18c2_row1_col0 {\n",
       "  background-color: #6996ff;\n",
       "  color: #f1f1f1;\n",
       "}\n",
       "#T_e18c2_row1_col1 {\n",
       "  background-color: #5ca3ff;\n",
       "  color: #f1f1f1;\n",
       "}\n",
       "#T_e18c2_row1_col3 {\n",
       "  background-color: #30cfff;\n",
       "  color: #000000;\n",
       "}\n",
       "#T_e18c2_row2_col0 {\n",
       "  background-color: #58a7ff;\n",
       "  color: #f1f1f1;\n",
       "}\n",
       "#T_e18c2_row2_col1, #T_e18c2_row2_col3 {\n",
       "  background-color: #7a85ff;\n",
       "  color: #f1f1f1;\n",
       "}\n",
       "#T_e18c2_row2_col2 {\n",
       "  background-color: #916eff;\n",
       "  color: #f1f1f1;\n",
       "}\n",
       "#T_e18c2_row3_col0 {\n",
       "  background-color: #32cdff;\n",
       "  color: #000000;\n",
       "}\n",
       "#T_e18c2_row3_col1 {\n",
       "  background-color: #0ff0ff;\n",
       "  color: #000000;\n",
       "}\n",
       "#T_e18c2_row3_col3 {\n",
       "  background-color: #08f7ff;\n",
       "  color: #000000;\n",
       "}\n",
       "#T_e18c2_row4_col0, #T_e18c2_row4_col1, #T_e18c2_row4_col2, #T_e18c2_row4_col3 {\n",
       "  background-color: #ff00ff;\n",
       "  color: #f1f1f1;\n",
       "}\n",
       "</style>\n",
       "<table id=\"T_e18c2_\">\n",
       "  <thead>\n",
       "    <tr>\n",
       "      <th class=\"blank\" >&nbsp;</th>\n",
       "      <th class=\"index_name level0\" >Pclass</th>\n",
       "      <th class=\"col_heading level0 col0\" >1</th>\n",
       "      <th class=\"col_heading level0 col1\" >2</th>\n",
       "      <th class=\"col_heading level0 col2\" >3</th>\n",
       "      <th class=\"col_heading level0 col3\" >All</th>\n",
       "    </tr>\n",
       "    <tr>\n",
       "      <th class=\"index_name level0\" >Sex</th>\n",
       "      <th class=\"index_name level1\" >Survived</th>\n",
       "      <th class=\"blank col0\" >&nbsp;</th>\n",
       "      <th class=\"blank col1\" >&nbsp;</th>\n",
       "      <th class=\"blank col2\" >&nbsp;</th>\n",
       "      <th class=\"blank col3\" >&nbsp;</th>\n",
       "    </tr>\n",
       "  </thead>\n",
       "  <tbody>\n",
       "    <tr>\n",
       "      <th id=\"T_e18c2_level0_row0\" class=\"row_heading level0 row0\" rowspan=\"2\">female</th>\n",
       "      <th id=\"T_e18c2_level1_row0\" class=\"row_heading level1 row0\" >0</th>\n",
       "      <td id=\"T_e18c2_row0_col0\" class=\"data row0 col0\" >3</td>\n",
       "      <td id=\"T_e18c2_row0_col1\" class=\"data row0 col1\" >6</td>\n",
       "      <td id=\"T_e18c2_row0_col2\" class=\"data row0 col2\" >72</td>\n",
       "      <td id=\"T_e18c2_row0_col3\" class=\"data row0 col3\" >81</td>\n",
       "    </tr>\n",
       "    <tr>\n",
       "      <th id=\"T_e18c2_level1_row1\" class=\"row_heading level1 row1\" >1</th>\n",
       "      <td id=\"T_e18c2_row1_col0\" class=\"data row1 col0\" >91</td>\n",
       "      <td id=\"T_e18c2_row1_col1\" class=\"data row1 col1\" >70</td>\n",
       "      <td id=\"T_e18c2_row1_col2\" class=\"data row1 col2\" >72</td>\n",
       "      <td id=\"T_e18c2_row1_col3\" class=\"data row1 col3\" >233</td>\n",
       "    </tr>\n",
       "    <tr>\n",
       "      <th id=\"T_e18c2_level0_row2\" class=\"row_heading level0 row2\" rowspan=\"2\">male</th>\n",
       "      <th id=\"T_e18c2_level1_row2\" class=\"row_heading level1 row2\" >0</th>\n",
       "      <td id=\"T_e18c2_row2_col0\" class=\"data row2 col0\" >77</td>\n",
       "      <td id=\"T_e18c2_row2_col1\" class=\"data row2 col1\" >91</td>\n",
       "      <td id=\"T_e18c2_row2_col2\" class=\"data row2 col2\" >300</td>\n",
       "      <td id=\"T_e18c2_row2_col3\" class=\"data row2 col3\" >468</td>\n",
       "    </tr>\n",
       "    <tr>\n",
       "      <th id=\"T_e18c2_level1_row3\" class=\"row_heading level1 row3\" >1</th>\n",
       "      <td id=\"T_e18c2_row3_col0\" class=\"data row3 col0\" >45</td>\n",
       "      <td id=\"T_e18c2_row3_col1\" class=\"data row3 col1\" >17</td>\n",
       "      <td id=\"T_e18c2_row3_col2\" class=\"data row3 col2\" >47</td>\n",
       "      <td id=\"T_e18c2_row3_col3\" class=\"data row3 col3\" >109</td>\n",
       "    </tr>\n",
       "    <tr>\n",
       "      <th id=\"T_e18c2_level0_row4\" class=\"row_heading level0 row4\" >All</th>\n",
       "      <th id=\"T_e18c2_level1_row4\" class=\"row_heading level1 row4\" ></th>\n",
       "      <td id=\"T_e18c2_row4_col0\" class=\"data row4 col0\" >216</td>\n",
       "      <td id=\"T_e18c2_row4_col1\" class=\"data row4 col1\" >184</td>\n",
       "      <td id=\"T_e18c2_row4_col2\" class=\"data row4 col2\" >491</td>\n",
       "      <td id=\"T_e18c2_row4_col3\" class=\"data row4 col3\" >891</td>\n",
       "    </tr>\n",
       "  </tbody>\n",
       "</table>\n"
      ],
      "text/plain": [
       "<pandas.io.formats.style.Styler at 0x116627b75b0>"
      ]
     },
     "execution_count": 458,
     "metadata": {},
     "output_type": "execute_result"
    }
   ],
   "source": [
    "pd.crosstab([df['Sex'],df['Survived']],df['Pclass'],margins=True).style.background_gradient(cmap='cool')"
   ]
  },
  {
   "cell_type": "code",
   "execution_count": 459,
   "metadata": {},
   "outputs": [
    {
     "data": {
      "text/plain": [
       "<AxesSubplot:xlabel='Survived', ylabel='count'>"
      ]
     },
     "execution_count": 459,
     "metadata": {},
     "output_type": "execute_result"
    },
    {
     "data": {
      "image/png": "[encoded data removed]",
      "text/plain": [
       "<Figure size 720x360 with 1 Axes>"
      ]
     },
     "metadata": {},
     "output_type": "display_data"
    }
   ],
   "source": [
    "plt.figure(figsize=(10,5))\n",
    "sns.countplot(data=df,x='Survived',hue='Pclass',palette='rainbow')"
   ]
  },
  {
   "cell_type": "code",
   "execution_count": 460,
   "metadata": {},
   "outputs": [
    {
     "data": {
      "text/plain": [
       "<seaborn.axisgrid.FacetGrid at 0x1165e2f88e0>"
      ]
     },
     "execution_count": 460,
     "metadata": {},
     "output_type": "execute_result"
    },
    {
     "data": {
      "text/plain": [
       "<Figure size 1080x720 with 0 Axes>"
      ]
     },
     "metadata": {},
     "output_type": "display_data"
    },
    {
     "data": {
      "image/png": "[encoded data removed]",
      "text/plain": [
       "<Figure size 360x360 with 1 Axes>"
      ]
     },
     "metadata": {},
     "output_type": "display_data"
    }
   ],
   "source": [
    "plt.figure(figsize=(15,10))\n",
    "sns.displot(data=df['Age'].dropna(),kde=True)"
   ]
  },
  {
   "cell_type": "code",
   "execution_count": 461,
   "metadata": {},
   "outputs": [
    {
     "data": {
      "text/plain": [
       "<AxesSubplot:xlabel='SibSp', ylabel='count'>"
      ]
     },
     "execution_count": 461,
     "metadata": {},
     "output_type": "execute_result"
    },
    {
     "data": {
      "image/png": "[encoded data removed]",
      "text/plain": [
       "<Figure size 720x360 with 1 Axes>"
      ]
     },
     "metadata": {},
     "output_type": "display_data"
    }
   ],
   "source": [
    "plt.figure(figsize=(10,5))\n",
    "sns.countplot(data=df,x='SibSp',palette='rainbow')"
   ]
  },
  {
   "cell_type": "code",
   "execution_count": 462,
   "metadata": {},
   "outputs": [
    {
     "data": {
      "text/html": [
       "<style type=\"text/css\">\n",
       "#T_84a29_row0_col0, #T_84a29_row0_col1 {\n",
       "  background-color: #ffffcc;\n",
       "  color: #000000;\n",
       "}\n",
       "#T_84a29_row0_col2, #T_84a29_row0_col3 {\n",
       "  background-color: #e5d8bd;\n",
       "  color: #000000;\n",
       "}\n",
       "#T_84a29_row1_col0, #T_84a29_row1_col1, #T_84a29_row1_col3 {\n",
       "  background-color: #ccebc5;\n",
       "  color: #000000;\n",
       "}\n",
       "#T_84a29_row1_col2 {\n",
       "  background-color: #b3cde3;\n",
       "  color: #000000;\n",
       "}\n",
       "#T_84a29_row2_col0, #T_84a29_row2_col1, #T_84a29_row2_col2, #T_84a29_row2_col3, #T_84a29_row3_col0, #T_84a29_row3_col1, #T_84a29_row3_col2, #T_84a29_row3_col3, #T_84a29_row4_col0, #T_84a29_row4_col1, #T_84a29_row4_col2, #T_84a29_row4_col3, #T_84a29_row5_col0, #T_84a29_row5_col1, #T_84a29_row5_col2, #T_84a29_row5_col3, #T_84a29_row6_col0, #T_84a29_row6_col1, #T_84a29_row6_col2, #T_84a29_row6_col3 {\n",
       "  background-color: #fbb4ae;\n",
       "  color: #000000;\n",
       "}\n",
       "#T_84a29_row7_col0, #T_84a29_row7_col1, #T_84a29_row7_col2, #T_84a29_row7_col3 {\n",
       "  background-color: #f2f2f2;\n",
       "  color: #000000;\n",
       "}\n",
       "</style>\n",
       "<table id=\"T_84a29_\">\n",
       "  <thead>\n",
       "    <tr>\n",
       "      <th class=\"index_name level0\" >Pclass</th>\n",
       "      <th class=\"col_heading level0 col0\" >1</th>\n",
       "      <th class=\"col_heading level0 col1\" >2</th>\n",
       "      <th class=\"col_heading level0 col2\" >3</th>\n",
       "      <th class=\"col_heading level0 col3\" >All</th>\n",
       "    </tr>\n",
       "    <tr>\n",
       "      <th class=\"index_name level0\" >SibSp</th>\n",
       "      <th class=\"blank col0\" >&nbsp;</th>\n",
       "      <th class=\"blank col1\" >&nbsp;</th>\n",
       "      <th class=\"blank col2\" >&nbsp;</th>\n",
       "      <th class=\"blank col3\" >&nbsp;</th>\n",
       "    </tr>\n",
       "  </thead>\n",
       "  <tbody>\n",
       "    <tr>\n",
       "      <th id=\"T_84a29_level0_row0\" class=\"row_heading level0 row0\" >0</th>\n",
       "      <td id=\"T_84a29_row0_col0\" class=\"data row0 col0\" >137</td>\n",
       "      <td id=\"T_84a29_row0_col1\" class=\"data row0 col1\" >120</td>\n",
       "      <td id=\"T_84a29_row0_col2\" class=\"data row0 col2\" >351</td>\n",
       "      <td id=\"T_84a29_row0_col3\" class=\"data row0 col3\" >608</td>\n",
       "    </tr>\n",
       "    <tr>\n",
       "      <th id=\"T_84a29_level0_row1\" class=\"row_heading level0 row1\" >1</th>\n",
       "      <td id=\"T_84a29_row1_col0\" class=\"data row1 col0\" >71</td>\n",
       "      <td id=\"T_84a29_row1_col1\" class=\"data row1 col1\" >55</td>\n",
       "      <td id=\"T_84a29_row1_col2\" class=\"data row1 col2\" >83</td>\n",
       "      <td id=\"T_84a29_row1_col3\" class=\"data row1 col3\" >209</td>\n",
       "    </tr>\n",
       "    <tr>\n",
       "      <th id=\"T_84a29_level0_row2\" class=\"row_heading level0 row2\" >2</th>\n",
       "      <td id=\"T_84a29_row2_col0\" class=\"data row2 col0\" >5</td>\n",
       "      <td id=\"T_84a29_row2_col1\" class=\"data row2 col1\" >8</td>\n",
       "      <td id=\"T_84a29_row2_col2\" class=\"data row2 col2\" >15</td>\n",
       "      <td id=\"T_84a29_row2_col3\" class=\"data row2 col3\" >28</td>\n",
       "    </tr>\n",
       "    <tr>\n",
       "      <th id=\"T_84a29_level0_row3\" class=\"row_heading level0 row3\" >3</th>\n",
       "      <td id=\"T_84a29_row3_col0\" class=\"data row3 col0\" >3</td>\n",
       "      <td id=\"T_84a29_row3_col1\" class=\"data row3 col1\" >1</td>\n",
       "      <td id=\"T_84a29_row3_col2\" class=\"data row3 col2\" >12</td>\n",
       "      <td id=\"T_84a29_row3_col3\" class=\"data row3 col3\" >16</td>\n",
       "    </tr>\n",
       "    <tr>\n",
       "      <th id=\"T_84a29_level0_row4\" class=\"row_heading level0 row4\" >4</th>\n",
       "      <td id=\"T_84a29_row4_col0\" class=\"data row4 col0\" >0</td>\n",
       "      <td id=\"T_84a29_row4_col1\" class=\"data row4 col1\" >0</td>\n",
       "      <td id=\"T_84a29_row4_col2\" class=\"data row4 col2\" >18</td>\n",
       "      <td id=\"T_84a29_row4_col3\" class=\"data row4 col3\" >18</td>\n",
       "    </tr>\n",
       "    <tr>\n",
       "      <th id=\"T_84a29_level0_row5\" class=\"row_heading level0 row5\" >5</th>\n",
       "      <td id=\"T_84a29_row5_col0\" class=\"data row5 col0\" >0</td>\n",
       "      <td id=\"T_84a29_row5_col1\" class=\"data row5 col1\" >0</td>\n",
       "      <td id=\"T_84a29_row5_col2\" class=\"data row5 col2\" >5</td>\n",
       "      <td id=\"T_84a29_row5_col3\" class=\"data row5 col3\" >5</td>\n",
       "    </tr>\n",
       "    <tr>\n",
       "      <th id=\"T_84a29_level0_row6\" class=\"row_heading level0 row6\" >8</th>\n",
       "      <td id=\"T_84a29_row6_col0\" class=\"data row6 col0\" >0</td>\n",
       "      <td id=\"T_84a29_row6_col1\" class=\"data row6 col1\" >0</td>\n",
       "      <td id=\"T_84a29_row6_col2\" class=\"data row6 col2\" >7</td>\n",
       "      <td id=\"T_84a29_row6_col3\" class=\"data row6 col3\" >7</td>\n",
       "    </tr>\n",
       "    <tr>\n",
       "      <th id=\"T_84a29_level0_row7\" class=\"row_heading level0 row7\" >All</th>\n",
       "      <td id=\"T_84a29_row7_col0\" class=\"data row7 col0\" >216</td>\n",
       "      <td id=\"T_84a29_row7_col1\" class=\"data row7 col1\" >184</td>\n",
       "      <td id=\"T_84a29_row7_col2\" class=\"data row7 col2\" >491</td>\n",
       "      <td id=\"T_84a29_row7_col3\" class=\"data row7 col3\" >891</td>\n",
       "    </tr>\n",
       "  </tbody>\n",
       "</table>\n"
      ],
      "text/plain": [
       "<pandas.io.formats.style.Styler at 0x1165f073430>"
      ]
     },
     "execution_count": 462,
     "metadata": {},
     "output_type": "execute_result"
    }
   ],
   "source": [
    "pd.crosstab([df['SibSp']],df['Pclass'],margins=True).style.background_gradient(cmap='Pastel1')"
   ]
  },
  {
   "cell_type": "code",
   "execution_count": 463,
   "metadata": {},
   "outputs": [
    {
     "data": {
      "text/html": [
       "<style type=\"text/css\">\n",
       "#T_0fea5_row0_col0 {\n",
       "  background-color: #70febc;\n",
       "  color: #000000;\n",
       "}\n",
       "#T_0fea5_row0_col1, #T_0fea5_row1_col0, #T_0fea5_row1_col2, #T_0fea5_row1_col3, #T_0fea5_row1_col4, #T_0fea5_row1_col5, #T_0fea5_row1_col6, #T_0fea5_row1_col7 {\n",
       "  background-color: #8000ff;\n",
       "  color: #f1f1f1;\n",
       "}\n",
       "#T_0fea5_row0_col2, #T_0fea5_row1_col1 {\n",
       "  background-color: #3c68f9;\n",
       "  color: #f1f1f1;\n",
       "}\n",
       "#T_0fea5_row0_col3 {\n",
       "  background-color: #d4dd80;\n",
       "  color: #000000;\n",
       "}\n",
       "#T_0fea5_row0_col4 {\n",
       "  background-color: #ff964f;\n",
       "  color: #000000;\n",
       "}\n",
       "#T_0fea5_row0_col5, #T_0fea5_row0_col6, #T_0fea5_row2_col0, #T_0fea5_row2_col1, #T_0fea5_row2_col2, #T_0fea5_row2_col3, #T_0fea5_row2_col4, #T_0fea5_row2_col5, #T_0fea5_row2_col6, #T_0fea5_row2_col7 {\n",
       "  background-color: #ff0000;\n",
       "  color: #f1f1f1;\n",
       "}\n",
       "#T_0fea5_row0_col7 {\n",
       "  background-color: #40ecd4;\n",
       "  color: #000000;\n",
       "}\n",
       "</style>\n",
       "<table id=\"T_0fea5_\">\n",
       "  <thead>\n",
       "    <tr>\n",
       "      <th class=\"index_name level0\" >SibSp</th>\n",
       "      <th class=\"col_heading level0 col0\" >0</th>\n",
       "      <th class=\"col_heading level0 col1\" >1</th>\n",
       "      <th class=\"col_heading level0 col2\" >2</th>\n",
       "      <th class=\"col_heading level0 col3\" >3</th>\n",
       "      <th class=\"col_heading level0 col4\" >4</th>\n",
       "      <th class=\"col_heading level0 col5\" >5</th>\n",
       "      <th class=\"col_heading level0 col6\" >8</th>\n",
       "      <th class=\"col_heading level0 col7\" >All</th>\n",
       "    </tr>\n",
       "    <tr>\n",
       "      <th class=\"index_name level0\" >Survived</th>\n",
       "      <th class=\"blank col0\" >&nbsp;</th>\n",
       "      <th class=\"blank col1\" >&nbsp;</th>\n",
       "      <th class=\"blank col2\" >&nbsp;</th>\n",
       "      <th class=\"blank col3\" >&nbsp;</th>\n",
       "      <th class=\"blank col4\" >&nbsp;</th>\n",
       "      <th class=\"blank col5\" >&nbsp;</th>\n",
       "      <th class=\"blank col6\" >&nbsp;</th>\n",
       "      <th class=\"blank col7\" >&nbsp;</th>\n",
       "    </tr>\n",
       "  </thead>\n",
       "  <tbody>\n",
       "    <tr>\n",
       "      <th id=\"T_0fea5_level0_row0\" class=\"row_heading level0 row0\" >0</th>\n",
       "      <td id=\"T_0fea5_row0_col0\" class=\"data row0 col0\" >398</td>\n",
       "      <td id=\"T_0fea5_row0_col1\" class=\"data row0 col1\" >97</td>\n",
       "      <td id=\"T_0fea5_row0_col2\" class=\"data row0 col2\" >15</td>\n",
       "      <td id=\"T_0fea5_row0_col3\" class=\"data row0 col3\" >12</td>\n",
       "      <td id=\"T_0fea5_row0_col4\" class=\"data row0 col4\" >15</td>\n",
       "      <td id=\"T_0fea5_row0_col5\" class=\"data row0 col5\" >5</td>\n",
       "      <td id=\"T_0fea5_row0_col6\" class=\"data row0 col6\" >7</td>\n",
       "      <td id=\"T_0fea5_row0_col7\" class=\"data row0 col7\" >549</td>\n",
       "    </tr>\n",
       "    <tr>\n",
       "      <th id=\"T_0fea5_level0_row1\" class=\"row_heading level0 row1\" >1</th>\n",
       "      <td id=\"T_0fea5_row1_col0\" class=\"data row1 col0\" >210</td>\n",
       "      <td id=\"T_0fea5_row1_col1\" class=\"data row1 col1\" >112</td>\n",
       "      <td id=\"T_0fea5_row1_col2\" class=\"data row1 col2\" >13</td>\n",
       "      <td id=\"T_0fea5_row1_col3\" class=\"data row1 col3\" >4</td>\n",
       "      <td id=\"T_0fea5_row1_col4\" class=\"data row1 col4\" >3</td>\n",
       "      <td id=\"T_0fea5_row1_col5\" class=\"data row1 col5\" >0</td>\n",
       "      <td id=\"T_0fea5_row1_col6\" class=\"data row1 col6\" >0</td>\n",
       "      <td id=\"T_0fea5_row1_col7\" class=\"data row1 col7\" >342</td>\n",
       "    </tr>\n",
       "    <tr>\n",
       "      <th id=\"T_0fea5_level0_row2\" class=\"row_heading level0 row2\" >All</th>\n",
       "      <td id=\"T_0fea5_row2_col0\" class=\"data row2 col0\" >608</td>\n",
       "      <td id=\"T_0fea5_row2_col1\" class=\"data row2 col1\" >209</td>\n",
       "      <td id=\"T_0fea5_row2_col2\" class=\"data row2 col2\" >28</td>\n",
       "      <td id=\"T_0fea5_row2_col3\" class=\"data row2 col3\" >16</td>\n",
       "      <td id=\"T_0fea5_row2_col4\" class=\"data row2 col4\" >18</td>\n",
       "      <td id=\"T_0fea5_row2_col5\" class=\"data row2 col5\" >5</td>\n",
       "      <td id=\"T_0fea5_row2_col6\" class=\"data row2 col6\" >7</td>\n",
       "      <td id=\"T_0fea5_row2_col7\" class=\"data row2 col7\" >891</td>\n",
       "    </tr>\n",
       "  </tbody>\n",
       "</table>\n"
      ],
      "text/plain": [
       "<pandas.io.formats.style.Styler at 0x116595fa880>"
      ]
     },
     "execution_count": 463,
     "metadata": {},
     "output_type": "execute_result"
    }
   ],
   "source": [
    "pd.crosstab([df['Survived']],df['SibSp'],margins=True).style.background_gradient(cmap='rainbow')"
   ]
  },
  {
   "cell_type": "code",
   "execution_count": 464,
   "metadata": {},
   "outputs": [
    {
     "data": {
      "text/plain": [
       "<AxesSubplot:xlabel='Pclass', ylabel='Age'>"
      ]
     },
     "execution_count": 464,
     "metadata": {},
     "output_type": "execute_result"
    },
    {
     "data": {
      "image/png": "[encoded data removed]",
      "text/plain": [
       "<Figure size 1080x576 with 1 Axes>"
      ]
     },
     "metadata": {},
     "output_type": "display_data"
    }
   ],
   "source": [
    "plt.figure(figsize=(15,8))\n",
    "sns.boxplot(data = df,x=df['Pclass'],y=df['Age'])"
   ]
  },
  {
   "cell_type": "code",
   "execution_count": 465,
   "metadata": {},
   "outputs": [
    {
     "data": {
      "text/plain": [
       "<AxesSubplot:xlabel='Pclass', ylabel='Age'>"
      ]
     },
     "execution_count": 465,
     "metadata": {},
     "output_type": "execute_result"
    },
    {
     "data": {
      "image/png": "[encoded data removed]",
      "text/plain": [
       "<Figure size 1080x576 with 1 Axes>"
      ]
     },
     "metadata": {},
     "output_type": "display_data"
    }
   ],
   "source": [
    "plt.figure(figsize=(15,8))\n",
    "sns.violinplot(data = df,x=df['Pclass'],y=df['Age'])"
   ]
  },
  {
   "cell_type": "markdown",
   "metadata": {},
   "source": [
    "# Data Cleaning and Preparation "
   ]
  },
  {
   "cell_type": "code",
   "execution_count": 501,
   "metadata": {},
   "outputs": [
    {
     "name": "stdout",
     "output_type": "stream",
     "text": [
      "37.0\n",
      "29.0\n",
      "25.0\n"
     ]
    }
   ],
   "source": [
    "print(df[df['Pclass']==1]['Age'].median())\n",
    "print(df[df['Pclass']==2]['Age'].median())\n",
    "print(df[df['Pclass']==3]['Age'].median())"
   ]
  },
  {
   "cell_type": "code",
   "execution_count": 466,
   "metadata": {},
   "outputs": [],
   "source": [
    "# Here we are filling the missing value of the age column. If the Age value is null and if the person belongs to the P-class 1\n",
    "# then we are filling it with 37 and similarly for other P-class.\n",
    "# 37 is the average age of people travelling on the P-class 1\n",
    "def impute_age(cols):\n",
    "    Age = cols[0]\n",
    "    Pclass = cols[1]\n",
    "    if pd.isnull(Age):\n",
    "        if Pclass == 1:\n",
    "            return 37\n",
    "        elif Pclass == 2:\n",
    "            return 29\n",
    "        elif Pclass == 3:\n",
    "            return 25\n",
    "    else:\n",
    "        return Age"
   ]
  },
  {
   "cell_type": "code",
   "execution_count": 467,
   "metadata": {},
   "outputs": [
    {
     "data": {
      "text/plain": [
       "<AxesSubplot:>"
      ]
     },
     "execution_count": 467,
     "metadata": {},
     "output_type": "execute_result"
    },
    {
     "data": {
      "image/png": "[encoded data removed]",
      "text/plain": [
       "<Figure size 720x576 with 1 Axes>"
      ]
     },
     "metadata": {},
     "output_type": "display_data"
    }
   ],
   "source": [
    "plt.figure(figsize=(10,8))\n",
    "sns.heatmap(df.isnull(),cmap='viridis',cbar=False,yticklabels=False)"
   ]
  },
  {
   "cell_type": "code",
   "execution_count": 468,
   "metadata": {},
   "outputs": [],
   "source": [
    "df['Age'] = df[['Age','Pclass']].apply(impute_age,axis=1)"
   ]
  },
  {
   "cell_type": "code",
   "execution_count": 469,
   "metadata": {},
   "outputs": [
    {
     "data": {
      "text/plain": [
       "<AxesSubplot:>"
      ]
     },
     "execution_count": 469,
     "metadata": {},
     "output_type": "execute_result"
    },
    {
     "data": {
      "image/png": "[encoded data removed]",
      "text/plain": [
       "<Figure size 720x576 with 1 Axes>"
      ]
     },
     "metadata": {},
     "output_type": "display_data"
    }
   ],
   "source": [
    "plt.figure(figsize=(10,8))\n",
    "sns.heatmap(df.isnull(),cmap='viridis',cbar=False,yticklabels=False)"
   ]
  },
  {
   "cell_type": "code",
   "execution_count": 470,
   "metadata": {},
   "outputs": [],
   "source": [
    "# Dropping cabin column due to large number of null values\n",
    "df.drop(['Cabin'],axis=1,inplace=True)"
   ]
  },
  {
   "cell_type": "code",
   "execution_count": 471,
   "metadata": {},
   "outputs": [
    {
     "data": {
      "text/plain": [
       "<AxesSubplot:>"
      ]
     },
     "execution_count": 471,
     "metadata": {},
     "output_type": "execute_result"
    },
    {
     "data": {
      "image/png": "[encoded data removed]",
      "text/plain": [
       "<Figure size 720x576 with 1 Axes>"
      ]
     },
     "metadata": {},
     "output_type": "display_data"
    }
   ],
   "source": [
    "plt.figure(figsize=(10,8))\n",
    "sns.heatmap(df.isnull(),cmap='viridis',cbar=False,yticklabels=False)"
   ]
  },
  {
   "cell_type": "code",
   "execution_count": 472,
   "metadata": {},
   "outputs": [],
   "source": [
    "# One hot encoding the data\n",
    "df_filtered_ohe = pd.get_dummies(df, columns=['Pclass','Sex','Embarked'],drop_first=True)"
   ]
  },
  {
   "cell_type": "code",
   "execution_count": 473,
   "metadata": {},
   "outputs": [
    {
     "data": {
      "text/html": [
       "<div>\n",
       "<style scoped>\n",
       "    .dataframe tbody tr th:only-of-type {\n",
       "        vertical-align: middle;\n",
       "    }\n",
       "\n",
       "    .dataframe tbody tr th {\n",
       "        vertical-align: top;\n",
       "    }\n",
       "\n",
       "    .dataframe thead th {\n",
       "        text-align: right;\n",
       "    }\n",
       "</style>\n",
       "<table border=\"1\" class=\"dataframe\">\n",
       "  <thead>\n",
       "    <tr style=\"text-align: right;\">\n",
       "      <th></th>\n",
       "      <th>PassengerId</th>\n",
       "      <th>Survived</th>\n",
       "      <th>Name</th>\n",
       "      <th>Age</th>\n",
       "      <th>SibSp</th>\n",
       "      <th>Parch</th>\n",
       "      <th>Ticket</th>\n",
       "      <th>Fare</th>\n",
       "      <th>Pclass_2</th>\n",
       "      <th>Pclass_3</th>\n",
       "      <th>Sex_male</th>\n",
       "      <th>Embarked_Q</th>\n",
       "      <th>Embarked_S</th>\n",
       "    </tr>\n",
       "  </thead>\n",
       "  <tbody>\n",
       "    <tr>\n",
       "      <th>0</th>\n",
       "      <td>1</td>\n",
       "      <td>0</td>\n",
       "      <td>Braund, Mr. Owen Harris</td>\n",
       "      <td>22.0</td>\n",
       "      <td>1</td>\n",
       "      <td>0</td>\n",
       "      <td>A/5 21171</td>\n",
       "      <td>7.2500</td>\n",
       "      <td>0</td>\n",
       "      <td>1</td>\n",
       "      <td>1</td>\n",
       "      <td>0</td>\n",
       "      <td>1</td>\n",
       "    </tr>\n",
       "    <tr>\n",
       "      <th>1</th>\n",
       "      <td>2</td>\n",
       "      <td>1</td>\n",
       "      <td>Cumings, Mrs. John Bradley (Florence Briggs Th...</td>\n",
       "      <td>38.0</td>\n",
       "      <td>1</td>\n",
       "      <td>0</td>\n",
       "      <td>PC 17599</td>\n",
       "      <td>71.2833</td>\n",
       "      <td>0</td>\n",
       "      <td>0</td>\n",
       "      <td>0</td>\n",
       "      <td>0</td>\n",
       "      <td>0</td>\n",
       "    </tr>\n",
       "    <tr>\n",
       "      <th>2</th>\n",
       "      <td>3</td>\n",
       "      <td>1</td>\n",
       "      <td>Heikkinen, Miss. Laina</td>\n",
       "      <td>26.0</td>\n",
       "      <td>0</td>\n",
       "      <td>0</td>\n",
       "      <td>STON/O2. 3101282</td>\n",
       "      <td>7.9250</td>\n",
       "      <td>0</td>\n",
       "      <td>1</td>\n",
       "      <td>0</td>\n",
       "      <td>0</td>\n",
       "      <td>1</td>\n",
       "    </tr>\n",
       "    <tr>\n",
       "      <th>3</th>\n",
       "      <td>4</td>\n",
       "      <td>1</td>\n",
       "      <td>Futrelle, Mrs. Jacques Heath (Lily May Peel)</td>\n",
       "      <td>35.0</td>\n",
       "      <td>1</td>\n",
       "      <td>0</td>\n",
       "      <td>113803</td>\n",
       "      <td>53.1000</td>\n",
       "      <td>0</td>\n",
       "      <td>0</td>\n",
       "      <td>0</td>\n",
       "      <td>0</td>\n",
       "      <td>1</td>\n",
       "    </tr>\n",
       "    <tr>\n",
       "      <th>4</th>\n",
       "      <td>5</td>\n",
       "      <td>0</td>\n",
       "      <td>Allen, Mr. William Henry</td>\n",
       "      <td>35.0</td>\n",
       "      <td>0</td>\n",
       "      <td>0</td>\n",
       "      <td>373450</td>\n",
       "      <td>8.0500</td>\n",
       "      <td>0</td>\n",
       "      <td>1</td>\n",
       "      <td>1</td>\n",
       "      <td>0</td>\n",
       "      <td>1</td>\n",
       "    </tr>\n",
       "  </tbody>\n",
       "</table>\n",
       "</div>"
      ],
      "text/plain": [
       "   PassengerId  Survived                                               Name  \\\n",
       "0            1         0                            Braund, Mr. Owen Harris   \n",
       "1            2         1  Cumings, Mrs. John Bradley (Florence Briggs Th...   \n",
       "2            3         1                             Heikkinen, Miss. Laina   \n",
       "3            4         1       Futrelle, Mrs. Jacques Heath (Lily May Peel)   \n",
       "4            5         0                           Allen, Mr. William Henry   \n",
       "\n",
       "    Age  SibSp  Parch            Ticket     Fare  Pclass_2  Pclass_3  \\\n",
       "0  22.0      1      0         A/5 21171   7.2500         0         1   \n",
       "1  38.0      1      0          PC 17599  71.2833         0         0   \n",
       "2  26.0      0      0  STON/O2. 3101282   7.9250         0         1   \n",
       "3  35.0      1      0            113803  53.1000         0         0   \n",
       "4  35.0      0      0            373450   8.0500         0         1   \n",
       "\n",
       "   Sex_male  Embarked_Q  Embarked_S  \n",
       "0         1           0           1  \n",
       "1         0           0           0  \n",
       "2         0           0           1  \n",
       "3         0           0           1  \n",
       "4         1           0           1  "
      ]
     },
     "execution_count": 473,
     "metadata": {},
     "output_type": "execute_result"
    }
   ],
   "source": [
    "df_filtered_ohe.head()"
   ]
  },
  {
   "cell_type": "code",
   "execution_count": 474,
   "metadata": {},
   "outputs": [],
   "source": [
    "# Dropping some of the feature columns \n",
    "df_filtered_ohe.drop(['PassengerId','Name','Ticket'],axis=1,inplace=True)"
   ]
  },
  {
   "cell_type": "code",
   "execution_count": 475,
   "metadata": {},
   "outputs": [
    {
     "data": {
      "text/plain": [
       "Survived      0\n",
       "Age           0\n",
       "SibSp         0\n",
       "Parch         0\n",
       "Fare          0\n",
       "Pclass_2      0\n",
       "Pclass_3      0\n",
       "Sex_male      0\n",
       "Embarked_Q    0\n",
       "Embarked_S    0\n",
       "dtype: int64"
      ]
     },
     "execution_count": 475,
     "metadata": {},
     "output_type": "execute_result"
    }
   ],
   "source": [
    "df_filtered_ohe.isnull().sum()"
   ]
  },
  {
   "cell_type": "code",
   "execution_count": 476,
   "metadata": {},
   "outputs": [
    {
     "data": {
      "text/html": [
       "<div>\n",
       "<style scoped>\n",
       "    .dataframe tbody tr th:only-of-type {\n",
       "        vertical-align: middle;\n",
       "    }\n",
       "\n",
       "    .dataframe tbody tr th {\n",
       "        vertical-align: top;\n",
       "    }\n",
       "\n",
       "    .dataframe thead th {\n",
       "        text-align: right;\n",
       "    }\n",
       "</style>\n",
       "<table border=\"1\" class=\"dataframe\">\n",
       "  <thead>\n",
       "    <tr style=\"text-align: right;\">\n",
       "      <th></th>\n",
       "      <th>Survived</th>\n",
       "      <th>Age</th>\n",
       "      <th>SibSp</th>\n",
       "      <th>Parch</th>\n",
       "      <th>Fare</th>\n",
       "      <th>Pclass_2</th>\n",
       "      <th>Pclass_3</th>\n",
       "      <th>Sex_male</th>\n",
       "      <th>Embarked_Q</th>\n",
       "      <th>Embarked_S</th>\n",
       "    </tr>\n",
       "  </thead>\n",
       "  <tbody>\n",
       "    <tr>\n",
       "      <th>0</th>\n",
       "      <td>0</td>\n",
       "      <td>22.0</td>\n",
       "      <td>1</td>\n",
       "      <td>0</td>\n",
       "      <td>7.2500</td>\n",
       "      <td>0</td>\n",
       "      <td>1</td>\n",
       "      <td>1</td>\n",
       "      <td>0</td>\n",
       "      <td>1</td>\n",
       "    </tr>\n",
       "    <tr>\n",
       "      <th>1</th>\n",
       "      <td>1</td>\n",
       "      <td>38.0</td>\n",
       "      <td>1</td>\n",
       "      <td>0</td>\n",
       "      <td>71.2833</td>\n",
       "      <td>0</td>\n",
       "      <td>0</td>\n",
       "      <td>0</td>\n",
       "      <td>0</td>\n",
       "      <td>0</td>\n",
       "    </tr>\n",
       "    <tr>\n",
       "      <th>2</th>\n",
       "      <td>1</td>\n",
       "      <td>26.0</td>\n",
       "      <td>0</td>\n",
       "      <td>0</td>\n",
       "      <td>7.9250</td>\n",
       "      <td>0</td>\n",
       "      <td>1</td>\n",
       "      <td>0</td>\n",
       "      <td>0</td>\n",
       "      <td>1</td>\n",
       "    </tr>\n",
       "    <tr>\n",
       "      <th>3</th>\n",
       "      <td>1</td>\n",
       "      <td>35.0</td>\n",
       "      <td>1</td>\n",
       "      <td>0</td>\n",
       "      <td>53.1000</td>\n",
       "      <td>0</td>\n",
       "      <td>0</td>\n",
       "      <td>0</td>\n",
       "      <td>0</td>\n",
       "      <td>1</td>\n",
       "    </tr>\n",
       "    <tr>\n",
       "      <th>4</th>\n",
       "      <td>0</td>\n",
       "      <td>35.0</td>\n",
       "      <td>0</td>\n",
       "      <td>0</td>\n",
       "      <td>8.0500</td>\n",
       "      <td>0</td>\n",
       "      <td>1</td>\n",
       "      <td>1</td>\n",
       "      <td>0</td>\n",
       "      <td>1</td>\n",
       "    </tr>\n",
       "  </tbody>\n",
       "</table>\n",
       "</div>"
      ],
      "text/plain": [
       "   Survived   Age  SibSp  Parch     Fare  Pclass_2  Pclass_3  Sex_male  \\\n",
       "0         0  22.0      1      0   7.2500         0         1         1   \n",
       "1         1  38.0      1      0  71.2833         0         0         0   \n",
       "2         1  26.0      0      0   7.9250         0         1         0   \n",
       "3         1  35.0      1      0  53.1000         0         0         0   \n",
       "4         0  35.0      0      0   8.0500         0         1         1   \n",
       "\n",
       "   Embarked_Q  Embarked_S  \n",
       "0           0           1  \n",
       "1           0           0  \n",
       "2           0           1  \n",
       "3           0           1  \n",
       "4           0           1  "
      ]
     },
     "execution_count": 476,
     "metadata": {},
     "output_type": "execute_result"
    }
   ],
   "source": [
    "df_filtered_ohe.head()"
   ]
  },
  {
   "cell_type": "code",
   "execution_count": 477,
   "metadata": {},
   "outputs": [
    {
     "data": {
      "text/plain": [
       "array([[22.,  1.,  0., ...,  1.,  0.,  1.],\n",
       "       [38.,  1.,  0., ...,  0.,  0.,  0.],\n",
       "       [26.,  0.,  0., ...,  0.,  0.,  1.],\n",
       "       ...,\n",
       "       [25.,  1.,  2., ...,  0.,  0.,  1.],\n",
       "       [26.,  0.,  0., ...,  1.,  0.,  0.],\n",
       "       [32.,  0.,  0., ...,  1.,  1.,  0.]])"
      ]
     },
     "execution_count": 477,
     "metadata": {},
     "output_type": "execute_result"
    }
   ],
   "source": [
    "X = df_filtered_ohe.iloc[:,1:].values\n",
    "X"
   ]
  },
  {
   "cell_type": "code",
   "execution_count": 478,
   "metadata": {},
   "outputs": [],
   "source": [
    "y = df_filtered_ohe.iloc[:,0].values"
   ]
  },
  {
   "cell_type": "code",
   "execution_count": 479,
   "metadata": {},
   "outputs": [],
   "source": [
    "X_train, X_test, y_train, y_test = train_test_split(X, y, test_size=0.30, random_state=42)"
   ]
  },
  {
   "cell_type": "code",
   "execution_count": 480,
   "metadata": {},
   "outputs": [],
   "source": [
    "# Standardizing the features\n",
    "stdsc = StandardScaler()\n",
    "X_train = stdsc.fit_transform(X_train)\n",
    "X_test = stdsc.transform(X_test)"
   ]
  },
  {
   "cell_type": "code",
   "execution_count": 481,
   "metadata": {},
   "outputs": [],
   "source": [
    "no_of_samples_tr = X_train.shape[0]            \n",
    "input_features = X_train.shape[1]               \n",
    "channels = 1\n",
    "batch_size_tr = no_of_samples_tr                "
   ]
  },
  {
   "cell_type": "code",
   "execution_count": 482,
   "metadata": {},
   "outputs": [],
   "source": [
    "no_of_samples_test = X_test.shape[0]           \n",
    "input_features = X_test.shape[1]               \n",
    "channels = 1\n",
    "batch_size_test = no_of_samples_test           "
   ]
  },
  {
   "cell_type": "code",
   "execution_count": 483,
   "metadata": {},
   "outputs": [],
   "source": [
    "# Reshaping input train/test data as required by Keras for conv1D:\n",
    "train = X_train.reshape((no_of_samples_tr  , input_features, channels))\n",
    "test  = X_test.reshape(( no_of_samples_test, input_features, channels))"
   ]
  },
  {
   "cell_type": "code",
   "execution_count": 484,
   "metadata": {},
   "outputs": [
    {
     "name": "stdout",
     "output_type": "stream",
     "text": [
      "(623, 9, 1)\n",
      "(268, 9, 1)\n"
     ]
    }
   ],
   "source": [
    "print(train.shape)\n",
    "print(test.shape)"
   ]
  },
  {
   "cell_type": "code",
   "execution_count": 485,
   "metadata": {},
   "outputs": [],
   "source": [
    "# Inputs to model\n",
    "inputs = Input(shape = (train.shape[1],train.shape[2]))"
   ]
  },
  {
   "cell_type": "code",
   "execution_count": 486,
   "metadata": {},
   "outputs": [
    {
     "data": {
      "text/plain": [
       "<KerasTensor: shape=(None, 9, 1) dtype=float32 (created by layer 'input_9')>"
      ]
     },
     "execution_count": 486,
     "metadata": {},
     "output_type": "execute_result"
    }
   ],
   "source": [
    "inputs"
   ]
  },
  {
   "cell_type": "markdown",
   "metadata": {},
   "source": [
    "# Model Building "
   ]
  },
  {
   "cell_type": "code",
   "execution_count": 487,
   "metadata": {},
   "outputs": [],
   "source": [
    "# Adding convolution layers to left arm\n",
    "x_left = layers.Conv1D(filters = 32,kernel_size=3,activation=LeakyReLU(alpha=0.1))(inputs)\n",
    "\n",
    "x_left = layers.Conv1D(filters = 64,kernel_size=3,activation=LeakyReLU(alpha=0.1))(x_left)"
   ]
  },
  {
   "cell_type": "code",
   "execution_count": 488,
   "metadata": {},
   "outputs": [],
   "source": [
    "# Adding convolution layers to right arm\n",
    "x_rt = layers.Conv1D( filters = 64,kernel_size=3,activation=LeakyReLU(alpha=0.1))(inputs)\n",
    "\n",
    "x_rt = layers.Conv1D(filters = 128,kernel_size=3,activation=LeakyReLU(alpha=0.1))(x_rt)"
   ]
  },
  {
   "cell_type": "code",
   "execution_count": 489,
   "metadata": {},
   "outputs": [],
   "source": [
    "# Concatening the layers\n",
    "x = tf.keras.layers.concatenate([x_left,x_rt])"
   ]
  },
  {
   "cell_type": "code",
   "execution_count": 490,
   "metadata": {},
   "outputs": [],
   "source": [
    "# Flattening the layers\n",
    "xn = layers.Flatten()(x)"
   ]
  },
  {
   "cell_type": "code",
   "execution_count": 491,
   "metadata": {},
   "outputs": [],
   "source": [
    "# the hidden layers\n",
    "xn = layers.Dense(64, activation = LeakyReLU(alpha=0.1))(xn)\n",
    "xn = layers.Dense(128, activation = LeakyReLU(alpha=0.1))(xn)"
   ]
  },
  {
   "cell_type": "code",
   "execution_count": 492,
   "metadata": {},
   "outputs": [],
   "source": [
    "# the final/output layer\n",
    "out = layers.Dense(1,activation = 'sigmoid')(xn)"
   ]
  },
  {
   "cell_type": "code",
   "execution_count": 493,
   "metadata": {},
   "outputs": [],
   "source": [
    "# creating model with final input and output\n",
    "model = Model(inputs = [inputs], outputs = [out])"
   ]
  },
  {
   "cell_type": "code",
   "execution_count": 494,
   "metadata": {},
   "outputs": [
    {
     "name": "stdout",
     "output_type": "stream",
     "text": [
      "Model: \"model_7\"\n",
      "__________________________________________________________________________________________________\n",
      " Layer (type)                   Output Shape         Param #     Connected to                     \n",
      "==================================================================================================\n",
      " input_9 (InputLayer)           [(None, 9, 1)]       0           []                               \n",
      "                                                                                                  \n",
      " conv1d_31 (Conv1D)             (None, 7, 32)        128         ['input_9[0][0]']                \n",
      "                                                                                                  \n",
      " conv1d_33 (Conv1D)             (None, 7, 64)        256         ['input_9[0][0]']                \n",
      "                                                                                                  \n",
      " conv1d_32 (Conv1D)             (None, 5, 64)        6208        ['conv1d_31[0][0]']              \n",
      "                                                                                                  \n",
      " conv1d_34 (Conv1D)             (None, 5, 128)       24704       ['conv1d_33[0][0]']              \n",
      "                                                                                                  \n",
      " concatenate_7 (Concatenate)    (None, 5, 192)       0           ['conv1d_32[0][0]',              \n",
      "                                                                  'conv1d_34[0][0]']              \n",
      "                                                                                                  \n",
      " flatten_7 (Flatten)            (None, 960)          0           ['concatenate_7[0][0]']          \n",
      "                                                                                                  \n",
      " dense_22 (Dense)               (None, 64)           61504       ['flatten_7[0][0]']              \n",
      "                                                                                                  \n",
      " dense_23 (Dense)               (None, 128)          8320        ['dense_22[0][0]']               \n",
      "                                                                                                  \n",
      " dense_24 (Dense)               (None, 1)            129         ['dense_23[0][0]']               \n",
      "                                                                                                  \n",
      "==================================================================================================\n",
      "Total params: 101,249\n",
      "Trainable params: 101,249\n",
      "Non-trainable params: 0\n",
      "__________________________________________________________________________________________________\n"
     ]
    }
   ],
   "source": [
    "model.summary()"
   ]
  },
  {
   "cell_type": "code",
   "execution_count": 495,
   "metadata": {},
   "outputs": [],
   "source": [
    "# model compilation\n",
    "model.compile(optimizer = 'adam',loss=tf.keras.losses.BinaryCrossentropy(),metrics = ['accuracy'])"
   ]
  },
  {
   "cell_type": "code",
   "execution_count": 496,
   "metadata": {},
   "outputs": [
    {
     "name": "stdout",
     "output_type": "stream",
     "text": [
      "Epoch 1/30\n",
      "20/20 [==============================] - 1s 22ms/step - loss: 0.5611 - accuracy: 0.7416 - val_loss: 0.4433 - val_accuracy: 0.7948\n",
      "Epoch 2/30\n",
      "20/20 [==============================] - 0s 8ms/step - loss: 0.4290 - accuracy: 0.8154 - val_loss: 0.4470 - val_accuracy: 0.8060\n",
      "Epoch 3/30\n",
      "20/20 [==============================] - 0s 7ms/step - loss: 0.4176 - accuracy: 0.8331 - val_loss: 0.4502 - val_accuracy: 0.7948\n",
      "Epoch 4/30\n",
      "20/20 [==============================] - 0s 6ms/step - loss: 0.4144 - accuracy: 0.8266 - val_loss: 0.4336 - val_accuracy: 0.8060\n",
      "Epoch 5/30\n",
      "20/20 [==============================] - 0s 6ms/step - loss: 0.4029 - accuracy: 0.8299 - val_loss: 0.4281 - val_accuracy: 0.8134\n",
      "Epoch 6/30\n",
      "20/20 [==============================] - 0s 8ms/step - loss: 0.3954 - accuracy: 0.8395 - val_loss: 0.4284 - val_accuracy: 0.8097\n",
      "Epoch 7/30\n",
      "20/20 [==============================] - 0s 6ms/step - loss: 0.3911 - accuracy: 0.8427 - val_loss: 0.4327 - val_accuracy: 0.8134\n",
      "Epoch 8/30\n",
      "20/20 [==============================] - 0s 7ms/step - loss: 0.3931 - accuracy: 0.8427 - val_loss: 0.4372 - val_accuracy: 0.8134\n",
      "Epoch 9/30\n",
      "20/20 [==============================] - 0s 7ms/step - loss: 0.3926 - accuracy: 0.8395 - val_loss: 0.4384 - val_accuracy: 0.8172\n",
      "Epoch 10/30\n",
      "20/20 [==============================] - 0s 7ms/step - loss: 0.3798 - accuracy: 0.8443 - val_loss: 0.4416 - val_accuracy: 0.8172\n",
      "Epoch 11/30\n",
      "20/20 [==============================] - 0s 6ms/step - loss: 0.3819 - accuracy: 0.8379 - val_loss: 0.4374 - val_accuracy: 0.8172\n",
      "Epoch 12/30\n",
      "20/20 [==============================] - 0s 6ms/step - loss: 0.3780 - accuracy: 0.8443 - val_loss: 0.4346 - val_accuracy: 0.8172\n",
      "Epoch 13/30\n",
      "20/20 [==============================] - 0s 7ms/step - loss: 0.3770 - accuracy: 0.8443 - val_loss: 0.4479 - val_accuracy: 0.8097\n",
      "Epoch 14/30\n",
      "20/20 [==============================] - 0s 6ms/step - loss: 0.3804 - accuracy: 0.8411 - val_loss: 0.4377 - val_accuracy: 0.8097\n",
      "Epoch 15/30\n",
      "20/20 [==============================] - 0s 7ms/step - loss: 0.3681 - accuracy: 0.8411 - val_loss: 0.4503 - val_accuracy: 0.8172\n",
      "Epoch 16/30\n",
      "20/20 [==============================] - 0s 6ms/step - loss: 0.3736 - accuracy: 0.8507 - val_loss: 0.4428 - val_accuracy: 0.8097\n",
      "Epoch 17/30\n",
      "20/20 [==============================] - 0s 6ms/step - loss: 0.3757 - accuracy: 0.8411 - val_loss: 0.4496 - val_accuracy: 0.8134\n",
      "Epoch 18/30\n",
      "20/20 [==============================] - 0s 7ms/step - loss: 0.3646 - accuracy: 0.8555 - val_loss: 0.4223 - val_accuracy: 0.8209\n",
      "Epoch 19/30\n",
      "20/20 [==============================] - 0s 7ms/step - loss: 0.3674 - accuracy: 0.8427 - val_loss: 0.4392 - val_accuracy: 0.8172\n",
      "Epoch 20/30\n",
      "20/20 [==============================] - 0s 7ms/step - loss: 0.3617 - accuracy: 0.8459 - val_loss: 0.4461 - val_accuracy: 0.8209\n",
      "Epoch 21/30\n",
      "20/20 [==============================] - 0s 8ms/step - loss: 0.3593 - accuracy: 0.8507 - val_loss: 0.4386 - val_accuracy: 0.8284\n",
      "Epoch 22/30\n",
      "20/20 [==============================] - 0s 8ms/step - loss: 0.3616 - accuracy: 0.8507 - val_loss: 0.4474 - val_accuracy: 0.8134\n",
      "Epoch 23/30\n",
      "20/20 [==============================] - 0s 7ms/step - loss: 0.3575 - accuracy: 0.8587 - val_loss: 0.4550 - val_accuracy: 0.8172\n",
      "Epoch 24/30\n",
      "20/20 [==============================] - 0s 7ms/step - loss: 0.3513 - accuracy: 0.8523 - val_loss: 0.4497 - val_accuracy: 0.8209\n",
      "Epoch 25/30\n",
      "20/20 [==============================] - 0s 7ms/step - loss: 0.3508 - accuracy: 0.8555 - val_loss: 0.4645 - val_accuracy: 0.8097\n",
      "Epoch 26/30\n",
      "20/20 [==============================] - 0s 8ms/step - loss: 0.3592 - accuracy: 0.8475 - val_loss: 0.4506 - val_accuracy: 0.8060\n",
      "Epoch 27/30\n",
      "20/20 [==============================] - 0s 7ms/step - loss: 0.3530 - accuracy: 0.8555 - val_loss: 0.4431 - val_accuracy: 0.8172\n",
      "Epoch 28/30\n",
      "20/20 [==============================] - 0s 7ms/step - loss: 0.3511 - accuracy: 0.8507 - val_loss: 0.4503 - val_accuracy: 0.8134\n",
      "Epoch 29/30\n",
      "20/20 [==============================] - 0s 6ms/step - loss: 0.3440 - accuracy: 0.8636 - val_loss: 0.4476 - val_accuracy: 0.8134\n",
      "Epoch 30/30\n",
      "20/20 [==============================] - 0s 6ms/step - loss: 0.3407 - accuracy: 0.8620 - val_loss: 0.4579 - val_accuracy: 0.8172\n"
     ]
    }
   ],
   "source": [
    "# fitting the model\n",
    "history = model.fit(train,y_train,epochs = 30,validation_data = (test,y_test),batch_size = 32)"
   ]
  },
  {
   "cell_type": "markdown",
   "metadata": {},
   "source": [
    "# Evaluating the model"
   ]
  },
  {
   "cell_type": "code",
   "execution_count": 497,
   "metadata": {},
   "outputs": [
    {
     "name": "stdout",
     "output_type": "stream",
     "text": [
      "20/20 [==============================] - 0s 3ms/step - loss: 0.3299 - accuracy: 0.8620\n",
      "9/9 [==============================] - 0s 3ms/step - loss: 0.4579 - accuracy: 0.8172\n"
     ]
    }
   ],
   "source": [
    "train_loss, train_acc = model.evaluate(train, y_train, batch_size=32)\n",
    "test_loss, test_acc  = model.evaluate(test, y_test, batch_size=32)"
   ]
  },
  {
   "cell_type": "code",
   "execution_count": 498,
   "metadata": {},
   "outputs": [
    {
     "name": "stdout",
     "output_type": "stream",
     "text": [
      "Train Loss =  0.3298637568950653 \n",
      "Train Accuracy =  86.19582653045654\n",
      "******************************\n",
      "Test Loss =  0.45785969495773315 \n",
      "Test Accuracy =  81.71641826629639\n"
     ]
    }
   ],
   "source": [
    "print('Train Loss = ',train_loss,'\\nTrain Accuracy = ',train_acc * 100)\n",
    "print('******************************')\n",
    "print('Test Loss = ',test_loss,'\\nTest Accuracy = ',test_acc * 100)"
   ]
  },
  {
   "cell_type": "code",
   "execution_count": 499,
   "metadata": {},
   "outputs": [
    {
     "name": "stdout",
     "output_type": "stream",
     "text": [
      "dict_keys(['loss', 'accuracy', 'val_loss', 'val_accuracy'])\n"
     ]
    },
    {
     "data": {
      "image/png": "[encoded data removed]",
      "text/plain": [
       "<Figure size 1080x720 with 1 Axes>"
      ]
     },
     "metadata": {},
     "output_type": "display_data"
    },
    {
     "data": {
      "image/png": "[encoded data removed]",
      "text/plain": [
       "<Figure size 1080x720 with 1 Axes>"
      ]
     },
     "metadata": {},
     "output_type": "display_data"
    }
   ],
   "source": [
    "# list all data in history\n",
    "plt.figure(figsize=(15,10))\n",
    "print(history.history.keys())\n",
    "# summarize history for accuracy\n",
    "plt.plot(history.history['accuracy'])\n",
    "plt.plot(history.history['val_accuracy'])\n",
    "plt.title('model accuracy')\n",
    "plt.ylabel('accuracy')\n",
    "plt.xlabel('epoch')\n",
    "plt.legend(['train', 'test'], loc='upper left')\n",
    "plt.show()\n",
    "# summarize history for loss\n",
    "plt.figure(figsize=(15,10))\n",
    "plt.plot(history.history['loss'])\n",
    "plt.plot(history.history['val_loss'])\n",
    "plt.title('model loss')\n",
    "plt.ylabel('loss')\n",
    "plt.xlabel('epoch')\n",
    "plt.legend(['train', 'test'], loc='upper left')\n",
    "plt.show()"
   ]
  },
  {
   "cell_type": "code",
   "execution_count": null,
   "metadata": {},
   "outputs": [],
   "source": []
  }
 ],
 "metadata": {
  "kernelspec": {
   "display_name": "Python 3",
   "language": "python",
   "name": "python3"
  },
  "language_info": {
   "codemirror_mode": {
    "name": "ipython",
    "version": 3
   },
   "file_extension": ".py",
   "mimetype": "text/x-python",
   "name": "python",
   "nbconvert_exporter": "python",
   "pygments_lexer": "ipython3",
   "version": "3.8.8"
  }
 },
 "nbformat": 4,
 "nbformat_minor": 2
}
